{
 "cells": [
  {
   "cell_type": "code",
   "execution_count": null,
   "id": "f81511f6-e369-4d21-bbf0-06b7725e9d4c",
   "metadata": {},
   "outputs": [],
   "source": [
    "import xarray as xr\n",
    "import rioxarray"
   ]
  },
  {
   "cell_type": "code",
   "execution_count": null,
   "id": "f2c12a86-3b8b-421b-9bac-e448707069b8",
   "metadata": {},
   "outputs": [],
   "source": [
    "INPUT_FILE = \"path/to/your/input/file.nc\" # NetCDF file used in this example\n",
    "OUTPUT_FILE = \"OutputCOG.tif\"\n",
    "LATITUDE_STR = \"lat\"\n",
    "LONGITUDE_STR = \"lon\"\n",
    "CRS = \"4326\""
   ]
  },
  {
   "cell_type": "code",
   "execution_count": null,
   "id": "09084af2",
   "metadata": {},
   "outputs": [],
   "source": [
    "dset = xr.open_dataset(INPUT_FILE, decode_times=True, use_cftime=True)\n",
    "\n",
    "# Uses rioxarray to write the coordinate reference system to the xarray dataset\n",
    "dset.rio.write_crs(CRS, inplace=True)\n",
    "\n",
    "# Rename the lat and lon from the original dataset to y and x\n",
    "dset = dset.rename({LATITUDE_STR: 'y', LONGITUDE_STR: 'x'})\n",
    "\n",
    "# This is a quick way to change the longitude from 0 - 360 degrees to -180 - 180 degrees. This is needed to correctly display the data\n",
    "dset = dset.assign_coords(\n",
    "    x=(((dset['x'] + 180) % 360) - 180)\n",
    ")\n",
    "\n",
    "# Sort the dataset by longitude\n",
    "dset = dset.sortby('x')"
   ]
  },
  {
   "cell_type": "code",
   "execution_count": null,
   "id": "02c0073c-8e39-4436-ab2c-09468de817fb",
   "metadata": {},
   "outputs": [],
   "source": [
    "# Process any data variables\n",
    "# For example, the dataset used for this example looked at the fraction of grid cell burnt by wildfire\n",
    "calc_data = dset['burntFractionAll'].groupby('time.month').mean('time') "
   ]
  },
  {
   "cell_type": "code",
   "execution_count": null,
   "id": "fbcd5f06-0aaf-41ad-b1f8-84857657f029",
   "metadata": {},
   "outputs": [],
   "source": [
    "# Save as a Cloud Optimized GeoTIFF Geotiff data. \n",
    "calc_data.rio.to_raster(OUTPUT_FILE, driver=\"COG\", compress=\"LZW\")"
   ]
  }
 ],
 "metadata": {
  "kernelspec": {
   "display_name": "geospatial",
   "language": "python",
   "name": "python3"
  },
  "language_info": {
   "codemirror_mode": {
    "name": "ipython",
    "version": 3
   },
   "file_extension": ".py",
   "mimetype": "text/x-python",
   "name": "python",
   "nbconvert_exporter": "python",
   "pygments_lexer": "ipython3",
   "version": "3.12.2"
  }
 },
 "nbformat": 4,
 "nbformat_minor": 5
}
