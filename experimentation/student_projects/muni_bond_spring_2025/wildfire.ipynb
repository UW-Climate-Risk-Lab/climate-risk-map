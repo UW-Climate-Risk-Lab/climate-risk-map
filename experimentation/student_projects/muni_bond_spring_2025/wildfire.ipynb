{
 "cells": [
  {
   "cell_type": "code",
   "execution_count": 46,
   "id": "369a9614",
   "metadata": {},
   "outputs": [],
   "source": [
    "import geopandas as gpd\n",
    "import pandas as pd\n",
    "import xarray as xr\n",
    "import rioxarray\n",
    "import xvec\n",
    "import os"
   ]
  },
  {
   "cell_type": "markdown",
   "id": "16b9096f",
   "metadata": {},
   "source": [
    "## Constants Set Up"
   ]
  },
  {
   "cell_type": "code",
   "execution_count": 47,
   "id": "b70c9060",
   "metadata": {},
   "outputs": [],
   "source": [
    "mtbs_raster_data_dir = \"./data/mtbs_rasters\"\n",
    "mtbs_perimeter_data_path = \"./data/mtbs_perimeters/mtbs_perims_DD.shp\"\n",
    "eia_utility_service_areas_path = \"./data/eia_service_areas/Electric_Retail_Service_Territories.geojson\"\n",
    "fwi_zarr_path = \"https://portal.nccs.nasa.gov/datashare/GlobalFWI/v2.0/fwiCalcs.GEOS-5/Default/GPM.LATE.v5/zarr/\"\n",
    "fwi_zarr_variable = \"GPM.LATE.v5_FWI\"\n",
    "\n",
    "CRS = \"EPSG:4269\""
   ]
  },
  {
   "cell_type": "markdown",
   "id": "554860a2",
   "metadata": {},
   "source": [
    "## Step 1)\n",
    "\n",
    "First, we read in the MTBS Wildfire data files and package them in a list of dictionaries\n",
    "\n"
   ]
  },
  {
   "cell_type": "code",
   "execution_count": null,
   "id": "42e86ab3",
   "metadata": {},
   "outputs": [
    {
     "ename": "ClientResponseError",
     "evalue": "503, message='Service Unavailable', url='https://portal.nccs.nasa.gov/datashare/GlobalFWI/v2.0/fwiCalcs.GEOS-5/Default/GPM.LATE.v5/zarr/GPM.LATE.v5_BUI/7.12.19'",
     "output_type": "error",
     "traceback": [
      "\u001b[0;31m---------------------------------------------------------------------------\u001b[0m",
      "\u001b[0;31mClientResponseError\u001b[0m                       Traceback (most recent call last)",
      "Cell \u001b[0;32mIn[51], line 34\u001b[0m\n\u001b[1;32m     31\u001b[0m data_struct[\u001b[38;5;124m\"\u001b[39m\u001b[38;5;124mgdf\u001b[39m\u001b[38;5;124m\"\u001b[39m] \u001b[38;5;241m=\u001b[39m gdf_temp\u001b[38;5;241m.\u001b[39mcopy()\n\u001b[1;32m     33\u001b[0m ds_fwi_state \u001b[38;5;241m=\u001b[39m ds_fwi[fwi_zarr_variable]\u001b[38;5;241m.\u001b[39msel(time\u001b[38;5;241m=\u001b[39mds_fwi\u001b[38;5;241m.\u001b[39mtime\u001b[38;5;241m.\u001b[39misin(gdf_filtered[\u001b[38;5;124m\"\u001b[39m\u001b[38;5;124mIg_Date\u001b[39m\u001b[38;5;124m\"\u001b[39m]))\n\u001b[0;32m---> 34\u001b[0m ds_fwi_reproj \u001b[38;5;241m=\u001b[39m \u001b[43mds_fwi\u001b[49m\u001b[38;5;241;43m.\u001b[39;49m\u001b[43mrio\u001b[49m\u001b[38;5;241;43m.\u001b[39;49m\u001b[43mreproject_match\u001b[49m\u001b[43m(\u001b[49m\u001b[43mda_mtsb_raster\u001b[49m\u001b[43m)\u001b[49m\n\u001b[1;32m     35\u001b[0m bounds \u001b[38;5;241m=\u001b[39m da_mtsb_raster\u001b[38;5;241m.\u001b[39mrio\u001b[38;5;241m.\u001b[39mbounds()\n\u001b[1;32m     36\u001b[0m ds_fwi_reproj_clipped \u001b[38;5;241m=\u001b[39m ds_fwi_reproj\u001b[38;5;241m.\u001b[39mrio\u001b[38;5;241m.\u001b[39mclip_box(\u001b[38;5;241m*\u001b[39mbounds)\n",
      "File \u001b[0;32m~/opt/miniconda3/envs/scenariomip/lib/python3.11/site-packages/rioxarray/raster_dataset.py:179\u001b[0m, in \u001b[0;36mRasterDataset.reproject_match\u001b[0;34m(self, match_data_array, resampling, **reproject_kwargs)\u001b[0m\n\u001b[1;32m    176\u001b[0m \u001b[38;5;28;01mtry\u001b[39;00m:\n\u001b[1;32m    177\u001b[0m     x_dim, y_dim \u001b[38;5;241m=\u001b[39m _get_spatial_dims(\u001b[38;5;28mself\u001b[39m\u001b[38;5;241m.\u001b[39m_obj, var)\n\u001b[1;32m    178\u001b[0m     resampled_dataset[var] \u001b[38;5;241m=\u001b[39m (\n\u001b[0;32m--> 179\u001b[0m         \u001b[38;5;28;43mself\u001b[39;49m\u001b[38;5;241;43m.\u001b[39;49m\u001b[43m_obj\u001b[49m\u001b[43m[\u001b[49m\u001b[43mvar\u001b[49m\u001b[43m]\u001b[49m\n\u001b[1;32m    180\u001b[0m \u001b[43m        \u001b[49m\u001b[38;5;241;43m.\u001b[39;49m\u001b[43mrio\u001b[49m\u001b[38;5;241;43m.\u001b[39;49m\u001b[43mset_spatial_dims\u001b[49m\u001b[43m(\u001b[49m\u001b[43mx_dim\u001b[49m\u001b[38;5;241;43m=\u001b[39;49m\u001b[43mx_dim\u001b[49m\u001b[43m,\u001b[49m\u001b[43m \u001b[49m\u001b[43my_dim\u001b[49m\u001b[38;5;241;43m=\u001b[39;49m\u001b[43my_dim\u001b[49m\u001b[43m,\u001b[49m\u001b[43m \u001b[49m\u001b[43minplace\u001b[49m\u001b[38;5;241;43m=\u001b[39;49m\u001b[38;5;28;43;01mTrue\u001b[39;49;00m\u001b[43m)\u001b[49m\n\u001b[1;32m    181\u001b[0m \u001b[43m        \u001b[49m\u001b[38;5;241;43m.\u001b[39;49m\u001b[43mrio\u001b[49m\u001b[38;5;241;43m.\u001b[39;49m\u001b[43mreproject_match\u001b[49m\u001b[43m(\u001b[49m\n\u001b[1;32m    182\u001b[0m \u001b[43m            \u001b[49m\u001b[43mmatch_data_array\u001b[49m\u001b[43m,\u001b[49m\u001b[43m \u001b[49m\u001b[43mresampling\u001b[49m\u001b[38;5;241;43m=\u001b[39;49m\u001b[43mresampling\u001b[49m\u001b[43m,\u001b[49m\u001b[43m \u001b[49m\u001b[38;5;241;43m*\u001b[39;49m\u001b[38;5;241;43m*\u001b[39;49m\u001b[43mreproject_kwargs\u001b[49m\n\u001b[1;32m    183\u001b[0m \u001b[43m        \u001b[49m\u001b[43m)\u001b[49m\n\u001b[1;32m    184\u001b[0m     )\n\u001b[1;32m    185\u001b[0m \u001b[38;5;28;01mexcept\u001b[39;00m MissingSpatialDimensionError:\n\u001b[1;32m    186\u001b[0m     \u001b[38;5;28;01mif\u001b[39;00m \u001b[38;5;28mlen\u001b[39m(\u001b[38;5;28mself\u001b[39m\u001b[38;5;241m.\u001b[39m_obj[var]\u001b[38;5;241m.\u001b[39mdims) \u001b[38;5;241m>\u001b[39m\u001b[38;5;241m=\u001b[39m \u001b[38;5;241m2\u001b[39m \u001b[38;5;129;01mand\u001b[39;00m \u001b[38;5;129;01mnot\u001b[39;00m get_option(\n\u001b[1;32m    187\u001b[0m         SKIP_MISSING_SPATIAL_DIMS\n\u001b[1;32m    188\u001b[0m     ):\n",
      "File \u001b[0;32m~/opt/miniconda3/envs/scenariomip/lib/python3.11/site-packages/rioxarray/raster_array.py:554\u001b[0m, in \u001b[0;36mRasterArray.reproject_match\u001b[0;34m(self, match_data_array, resampling, **reproject_kwargs)\u001b[0m\n\u001b[1;32m    520\u001b[0m \u001b[38;5;28;01mdef\u001b[39;00m \u001b[38;5;21mreproject_match\u001b[39m(\n\u001b[1;32m    521\u001b[0m     \u001b[38;5;28mself\u001b[39m,\n\u001b[1;32m    522\u001b[0m     match_data_array: Union[xarray\u001b[38;5;241m.\u001b[39mDataArray, xarray\u001b[38;5;241m.\u001b[39mDataset],\n\u001b[1;32m    523\u001b[0m     resampling: Resampling \u001b[38;5;241m=\u001b[39m Resampling\u001b[38;5;241m.\u001b[39mnearest,\n\u001b[1;32m    524\u001b[0m     \u001b[38;5;241m*\u001b[39m\u001b[38;5;241m*\u001b[39mreproject_kwargs,\n\u001b[1;32m    525\u001b[0m ) \u001b[38;5;241m-\u001b[39m\u001b[38;5;241m>\u001b[39m xarray\u001b[38;5;241m.\u001b[39mDataArray:\n\u001b[1;32m    526\u001b[0m \u001b[38;5;250m    \u001b[39m\u001b[38;5;124;03m\"\"\"\u001b[39;00m\n\u001b[1;32m    527\u001b[0m \u001b[38;5;124;03m    Reproject a DataArray object to match the resolution, projection,\u001b[39;00m\n\u001b[1;32m    528\u001b[0m \u001b[38;5;124;03m    and region of another DataArray.\u001b[39;00m\n\u001b[0;32m   (...)\u001b[0m\n\u001b[1;32m    552\u001b[0m \u001b[38;5;124;03m        match_data_array.\u001b[39;00m\n\u001b[1;32m    553\u001b[0m \u001b[38;5;124;03m    \"\"\"\u001b[39;00m\n\u001b[0;32m--> 554\u001b[0m     reprojected_data_array \u001b[38;5;241m=\u001b[39m \u001b[38;5;28;43mself\u001b[39;49m\u001b[38;5;241;43m.\u001b[39;49m\u001b[43mreproject\u001b[49m\u001b[43m(\u001b[49m\n\u001b[1;32m    555\u001b[0m \u001b[43m        \u001b[49m\u001b[43mmatch_data_array\u001b[49m\u001b[38;5;241;43m.\u001b[39;49m\u001b[43mrio\u001b[49m\u001b[38;5;241;43m.\u001b[39;49m\u001b[43mcrs\u001b[49m\u001b[43m,\u001b[49m\n\u001b[1;32m    556\u001b[0m \u001b[43m        \u001b[49m\u001b[43mtransform\u001b[49m\u001b[38;5;241;43m=\u001b[39;49m\u001b[43mmatch_data_array\u001b[49m\u001b[38;5;241;43m.\u001b[39;49m\u001b[43mrio\u001b[49m\u001b[38;5;241;43m.\u001b[39;49m\u001b[43mtransform\u001b[49m\u001b[43m(\u001b[49m\u001b[43mrecalc\u001b[49m\u001b[38;5;241;43m=\u001b[39;49m\u001b[38;5;28;43;01mTrue\u001b[39;49;00m\u001b[43m)\u001b[49m\u001b[43m,\u001b[49m\n\u001b[1;32m    557\u001b[0m \u001b[43m        \u001b[49m\u001b[43mshape\u001b[49m\u001b[38;5;241;43m=\u001b[39;49m\u001b[43mmatch_data_array\u001b[49m\u001b[38;5;241;43m.\u001b[39;49m\u001b[43mrio\u001b[49m\u001b[38;5;241;43m.\u001b[39;49m\u001b[43mshape\u001b[49m\u001b[43m,\u001b[49m\n\u001b[1;32m    558\u001b[0m \u001b[43m        \u001b[49m\u001b[43mresampling\u001b[49m\u001b[38;5;241;43m=\u001b[39;49m\u001b[43mresampling\u001b[49m\u001b[43m,\u001b[49m\n\u001b[1;32m    559\u001b[0m \u001b[43m        \u001b[49m\u001b[38;5;241;43m*\u001b[39;49m\u001b[38;5;241;43m*\u001b[39;49m\u001b[43mreproject_kwargs\u001b[49m\u001b[43m,\u001b[49m\n\u001b[1;32m    560\u001b[0m \u001b[43m    \u001b[49m\u001b[43m)\u001b[49m\n\u001b[1;32m    561\u001b[0m     \u001b[38;5;66;03m# hack to resolve: https://github.com/corteva/rioxarray/issues/298\u001b[39;00m\n\u001b[1;32m    562\u001b[0m     \u001b[38;5;66;03m# may be resolved in the future by flexible indexes:\u001b[39;00m\n\u001b[1;32m    563\u001b[0m     \u001b[38;5;66;03m# https://github.com/pydata/xarray/pull/4489#issuecomment-831809607\u001b[39;00m\n\u001b[1;32m    564\u001b[0m     x_attrs \u001b[38;5;241m=\u001b[39m reprojected_data_array[reprojected_data_array\u001b[38;5;241m.\u001b[39mrio\u001b[38;5;241m.\u001b[39mx_dim]\u001b[38;5;241m.\u001b[39mattrs\u001b[38;5;241m.\u001b[39mcopy()\n",
      "File \u001b[0;32m~/opt/miniconda3/envs/scenariomip/lib/python3.11/site-packages/rioxarray/raster_array.py:459\u001b[0m, in \u001b[0;36mRasterArray.reproject\u001b[0;34m(self, dst_crs, resolution, shape, transform, resampling, nodata, **kwargs)\u001b[0m\n\u001b[1;32m    454\u001b[0m dst_data \u001b[38;5;241m=\u001b[39m \u001b[38;5;28mself\u001b[39m\u001b[38;5;241m.\u001b[39m_create_dst_data(dst_height, dst_width)\n\u001b[1;32m    456\u001b[0m dst_nodata \u001b[38;5;241m=\u001b[39m \u001b[38;5;28mself\u001b[39m\u001b[38;5;241m.\u001b[39m_get_dst_nodata(nodata)\n\u001b[1;32m    458\u001b[0m rasterio\u001b[38;5;241m.\u001b[39mwarp\u001b[38;5;241m.\u001b[39mreproject(\n\u001b[0;32m--> 459\u001b[0m     source\u001b[38;5;241m=\u001b[39m\u001b[38;5;28;43mself\u001b[39;49m\u001b[38;5;241;43m.\u001b[39;49m\u001b[43m_obj\u001b[49m\u001b[38;5;241;43m.\u001b[39;49m\u001b[43mvalues\u001b[49m,\n\u001b[1;32m    460\u001b[0m     destination\u001b[38;5;241m=\u001b[39mdst_data,\n\u001b[1;32m    461\u001b[0m     src_transform\u001b[38;5;241m=\u001b[39msrc_affine,\n\u001b[1;32m    462\u001b[0m     src_crs\u001b[38;5;241m=\u001b[39m\u001b[38;5;28mself\u001b[39m\u001b[38;5;241m.\u001b[39mcrs,\n\u001b[1;32m    463\u001b[0m     src_nodata\u001b[38;5;241m=\u001b[39m\u001b[38;5;28mself\u001b[39m\u001b[38;5;241m.\u001b[39mnodata,\n\u001b[1;32m    464\u001b[0m     dst_transform\u001b[38;5;241m=\u001b[39mdst_affine,\n\u001b[1;32m    465\u001b[0m     dst_crs\u001b[38;5;241m=\u001b[39mdst_crs,\n\u001b[1;32m    466\u001b[0m     dst_nodata\u001b[38;5;241m=\u001b[39mdst_nodata,\n\u001b[1;32m    467\u001b[0m     resampling\u001b[38;5;241m=\u001b[39mresampling,\n\u001b[1;32m    468\u001b[0m     \u001b[38;5;241m*\u001b[39m\u001b[38;5;241m*\u001b[39mkwargs,\n\u001b[1;32m    469\u001b[0m )\n\u001b[1;32m    470\u001b[0m \u001b[38;5;66;03m# add necessary attributes\u001b[39;00m\n\u001b[1;32m    471\u001b[0m new_attrs \u001b[38;5;241m=\u001b[39m _generate_attrs(\u001b[38;5;28mself\u001b[39m\u001b[38;5;241m.\u001b[39m_obj, dst_nodata)\n",
      "File \u001b[0;32m~/opt/miniconda3/envs/scenariomip/lib/python3.11/site-packages/xarray/core/dataarray.py:814\u001b[0m, in \u001b[0;36mDataArray.values\u001b[0;34m(self)\u001b[0m\n\u001b[1;32m    801\u001b[0m \u001b[38;5;129m@property\u001b[39m\n\u001b[1;32m    802\u001b[0m \u001b[38;5;28;01mdef\u001b[39;00m \u001b[38;5;21mvalues\u001b[39m(\u001b[38;5;28mself\u001b[39m) \u001b[38;5;241m-\u001b[39m\u001b[38;5;241m>\u001b[39m np\u001b[38;5;241m.\u001b[39mndarray:\n\u001b[1;32m    803\u001b[0m \u001b[38;5;250m    \u001b[39m\u001b[38;5;124;03m\"\"\"\u001b[39;00m\n\u001b[1;32m    804\u001b[0m \u001b[38;5;124;03m    The array's data converted to numpy.ndarray.\u001b[39;00m\n\u001b[1;32m    805\u001b[0m \n\u001b[0;32m   (...)\u001b[0m\n\u001b[1;32m    812\u001b[0m \u001b[38;5;124;03m    to this array may be reflected in the DataArray as well.\u001b[39;00m\n\u001b[1;32m    813\u001b[0m \u001b[38;5;124;03m    \"\"\"\u001b[39;00m\n\u001b[0;32m--> 814\u001b[0m     \u001b[38;5;28;01mreturn\u001b[39;00m \u001b[38;5;28;43mself\u001b[39;49m\u001b[38;5;241;43m.\u001b[39;49m\u001b[43mvariable\u001b[49m\u001b[38;5;241;43m.\u001b[39;49m\u001b[43mvalues\u001b[49m\n",
      "File \u001b[0;32m~/opt/miniconda3/envs/scenariomip/lib/python3.11/site-packages/xarray/core/variable.py:566\u001b[0m, in \u001b[0;36mVariable.values\u001b[0;34m(self)\u001b[0m\n\u001b[1;32m    563\u001b[0m \u001b[38;5;129m@property\u001b[39m\n\u001b[1;32m    564\u001b[0m \u001b[38;5;28;01mdef\u001b[39;00m \u001b[38;5;21mvalues\u001b[39m(\u001b[38;5;28mself\u001b[39m) \u001b[38;5;241m-\u001b[39m\u001b[38;5;241m>\u001b[39m np\u001b[38;5;241m.\u001b[39mndarray:\n\u001b[1;32m    565\u001b[0m \u001b[38;5;250m    \u001b[39m\u001b[38;5;124;03m\"\"\"The variable's data as a numpy.ndarray\"\"\"\u001b[39;00m\n\u001b[0;32m--> 566\u001b[0m     \u001b[38;5;28;01mreturn\u001b[39;00m \u001b[43m_as_array_or_item\u001b[49m\u001b[43m(\u001b[49m\u001b[38;5;28;43mself\u001b[39;49m\u001b[38;5;241;43m.\u001b[39;49m\u001b[43m_data\u001b[49m\u001b[43m)\u001b[49m\n",
      "File \u001b[0;32m~/opt/miniconda3/envs/scenariomip/lib/python3.11/site-packages/xarray/core/variable.py:363\u001b[0m, in \u001b[0;36m_as_array_or_item\u001b[0;34m(data)\u001b[0m\n\u001b[1;32m    349\u001b[0m \u001b[38;5;28;01mdef\u001b[39;00m \u001b[38;5;21m_as_array_or_item\u001b[39m(data):\n\u001b[1;32m    350\u001b[0m \u001b[38;5;250m    \u001b[39m\u001b[38;5;124;03m\"\"\"Return the given values as a numpy array, or as an individual item if\u001b[39;00m\n\u001b[1;32m    351\u001b[0m \u001b[38;5;124;03m    it's a 0d datetime64 or timedelta64 array.\u001b[39;00m\n\u001b[1;32m    352\u001b[0m \n\u001b[0;32m   (...)\u001b[0m\n\u001b[1;32m    361\u001b[0m \u001b[38;5;124;03m    TODO: remove this (replace with np.asarray) once these issues are fixed\u001b[39;00m\n\u001b[1;32m    362\u001b[0m \u001b[38;5;124;03m    \"\"\"\u001b[39;00m\n\u001b[0;32m--> 363\u001b[0m     data \u001b[38;5;241m=\u001b[39m \u001b[43mnp\u001b[49m\u001b[38;5;241;43m.\u001b[39;49m\u001b[43masarray\u001b[49m\u001b[43m(\u001b[49m\u001b[43mdata\u001b[49m\u001b[43m)\u001b[49m\n\u001b[1;32m    364\u001b[0m     \u001b[38;5;28;01mif\u001b[39;00m data\u001b[38;5;241m.\u001b[39mndim \u001b[38;5;241m==\u001b[39m \u001b[38;5;241m0\u001b[39m:\n\u001b[1;32m    365\u001b[0m         \u001b[38;5;28;01mif\u001b[39;00m data\u001b[38;5;241m.\u001b[39mdtype\u001b[38;5;241m.\u001b[39mkind \u001b[38;5;241m==\u001b[39m \u001b[38;5;124m\"\u001b[39m\u001b[38;5;124mM\u001b[39m\u001b[38;5;124m\"\u001b[39m:\n",
      "File \u001b[0;32m~/opt/miniconda3/envs/scenariomip/lib/python3.11/site-packages/dask/array/core.py:1709\u001b[0m, in \u001b[0;36mArray.__array__\u001b[0;34m(self, dtype, **kwargs)\u001b[0m\n\u001b[1;32m   1708\u001b[0m \u001b[38;5;28;01mdef\u001b[39;00m \u001b[38;5;21m__array__\u001b[39m(\u001b[38;5;28mself\u001b[39m, dtype\u001b[38;5;241m=\u001b[39m\u001b[38;5;28;01mNone\u001b[39;00m, \u001b[38;5;241m*\u001b[39m\u001b[38;5;241m*\u001b[39mkwargs):\n\u001b[0;32m-> 1709\u001b[0m     x \u001b[38;5;241m=\u001b[39m \u001b[38;5;28;43mself\u001b[39;49m\u001b[38;5;241;43m.\u001b[39;49m\u001b[43mcompute\u001b[49m\u001b[43m(\u001b[49m\u001b[43m)\u001b[49m\n\u001b[1;32m   1710\u001b[0m     \u001b[38;5;28;01mif\u001b[39;00m dtype \u001b[38;5;129;01mand\u001b[39;00m x\u001b[38;5;241m.\u001b[39mdtype \u001b[38;5;241m!=\u001b[39m dtype:\n\u001b[1;32m   1711\u001b[0m         x \u001b[38;5;241m=\u001b[39m x\u001b[38;5;241m.\u001b[39mastype(dtype)\n",
      "File \u001b[0;32m~/opt/miniconda3/envs/scenariomip/lib/python3.11/site-packages/dask/base.py:372\u001b[0m, in \u001b[0;36mDaskMethodsMixin.compute\u001b[0;34m(self, **kwargs)\u001b[0m\n\u001b[1;32m    348\u001b[0m \u001b[38;5;28;01mdef\u001b[39;00m \u001b[38;5;21mcompute\u001b[39m(\u001b[38;5;28mself\u001b[39m, \u001b[38;5;241m*\u001b[39m\u001b[38;5;241m*\u001b[39mkwargs):\n\u001b[1;32m    349\u001b[0m \u001b[38;5;250m    \u001b[39m\u001b[38;5;124;03m\"\"\"Compute this dask collection\u001b[39;00m\n\u001b[1;32m    350\u001b[0m \n\u001b[1;32m    351\u001b[0m \u001b[38;5;124;03m    This turns a lazy Dask collection into its in-memory equivalent.\u001b[39;00m\n\u001b[0;32m   (...)\u001b[0m\n\u001b[1;32m    370\u001b[0m \u001b[38;5;124;03m    dask.compute\u001b[39;00m\n\u001b[1;32m    371\u001b[0m \u001b[38;5;124;03m    \"\"\"\u001b[39;00m\n\u001b[0;32m--> 372\u001b[0m     (result,) \u001b[38;5;241m=\u001b[39m \u001b[43mcompute\u001b[49m\u001b[43m(\u001b[49m\u001b[38;5;28;43mself\u001b[39;49m\u001b[43m,\u001b[49m\u001b[43m \u001b[49m\u001b[43mtraverse\u001b[49m\u001b[38;5;241;43m=\u001b[39;49m\u001b[38;5;28;43;01mFalse\u001b[39;49;00m\u001b[43m,\u001b[49m\u001b[43m \u001b[49m\u001b[38;5;241;43m*\u001b[39;49m\u001b[38;5;241;43m*\u001b[39;49m\u001b[43mkwargs\u001b[49m\u001b[43m)\u001b[49m\n\u001b[1;32m    373\u001b[0m     \u001b[38;5;28;01mreturn\u001b[39;00m result\n",
      "File \u001b[0;32m~/opt/miniconda3/envs/scenariomip/lib/python3.11/site-packages/dask/base.py:660\u001b[0m, in \u001b[0;36mcompute\u001b[0;34m(traverse, optimize_graph, scheduler, get, *args, **kwargs)\u001b[0m\n\u001b[1;32m    657\u001b[0m     postcomputes\u001b[38;5;241m.\u001b[39mappend(x\u001b[38;5;241m.\u001b[39m__dask_postcompute__())\n\u001b[1;32m    659\u001b[0m \u001b[38;5;28;01mwith\u001b[39;00m shorten_traceback():\n\u001b[0;32m--> 660\u001b[0m     results \u001b[38;5;241m=\u001b[39m \u001b[43mschedule\u001b[49m\u001b[43m(\u001b[49m\u001b[43mdsk\u001b[49m\u001b[43m,\u001b[49m\u001b[43m \u001b[49m\u001b[43mkeys\u001b[49m\u001b[43m,\u001b[49m\u001b[43m \u001b[49m\u001b[38;5;241;43m*\u001b[39;49m\u001b[38;5;241;43m*\u001b[39;49m\u001b[43mkwargs\u001b[49m\u001b[43m)\u001b[49m\n\u001b[1;32m    662\u001b[0m \u001b[38;5;28;01mreturn\u001b[39;00m repack([f(r, \u001b[38;5;241m*\u001b[39ma) \u001b[38;5;28;01mfor\u001b[39;00m r, (f, a) \u001b[38;5;129;01min\u001b[39;00m \u001b[38;5;28mzip\u001b[39m(results, postcomputes)])\n",
      "File \u001b[0;32m~/opt/miniconda3/envs/scenariomip/lib/python3.11/site-packages/xarray/core/indexing.py:578\u001b[0m, in \u001b[0;36mImplicitToExplicitIndexingAdapter.__array__\u001b[0;34m(self, dtype, copy)\u001b[0m\n\u001b[1;32m    574\u001b[0m \u001b[38;5;28;01mdef\u001b[39;00m \u001b[38;5;21m__array__\u001b[39m(\n\u001b[1;32m    575\u001b[0m     \u001b[38;5;28mself\u001b[39m, dtype: np\u001b[38;5;241m.\u001b[39mtyping\u001b[38;5;241m.\u001b[39mDTypeLike \u001b[38;5;241m=\u001b[39m \u001b[38;5;28;01mNone\u001b[39;00m, \u001b[38;5;241m/\u001b[39m, \u001b[38;5;241m*\u001b[39m, copy: \u001b[38;5;28mbool\u001b[39m \u001b[38;5;241m|\u001b[39m \u001b[38;5;28;01mNone\u001b[39;00m \u001b[38;5;241m=\u001b[39m \u001b[38;5;28;01mNone\u001b[39;00m\n\u001b[1;32m    576\u001b[0m ) \u001b[38;5;241m-\u001b[39m\u001b[38;5;241m>\u001b[39m np\u001b[38;5;241m.\u001b[39mndarray:\n\u001b[1;32m    577\u001b[0m     \u001b[38;5;28;01mif\u001b[39;00m Version(np\u001b[38;5;241m.\u001b[39m__version__) \u001b[38;5;241m>\u001b[39m\u001b[38;5;241m=\u001b[39m Version(\u001b[38;5;124m\"\u001b[39m\u001b[38;5;124m2.0.0\u001b[39m\u001b[38;5;124m\"\u001b[39m):\n\u001b[0;32m--> 578\u001b[0m         \u001b[38;5;28;01mreturn\u001b[39;00m np\u001b[38;5;241m.\u001b[39masarray(\u001b[38;5;28;43mself\u001b[39;49m\u001b[38;5;241;43m.\u001b[39;49m\u001b[43mget_duck_array\u001b[49m\u001b[43m(\u001b[49m\u001b[43m)\u001b[49m, dtype\u001b[38;5;241m=\u001b[39mdtype, copy\u001b[38;5;241m=\u001b[39mcopy)\n\u001b[1;32m    579\u001b[0m     \u001b[38;5;28;01melse\u001b[39;00m:\n\u001b[1;32m    580\u001b[0m         \u001b[38;5;28;01mreturn\u001b[39;00m np\u001b[38;5;241m.\u001b[39masarray(\u001b[38;5;28mself\u001b[39m\u001b[38;5;241m.\u001b[39mget_duck_array(), dtype\u001b[38;5;241m=\u001b[39mdtype)\n",
      "File \u001b[0;32m~/opt/miniconda3/envs/scenariomip/lib/python3.11/site-packages/xarray/core/indexing.py:583\u001b[0m, in \u001b[0;36mImplicitToExplicitIndexingAdapter.get_duck_array\u001b[0;34m(self)\u001b[0m\n\u001b[1;32m    582\u001b[0m \u001b[38;5;28;01mdef\u001b[39;00m \u001b[38;5;21mget_duck_array\u001b[39m(\u001b[38;5;28mself\u001b[39m):\n\u001b[0;32m--> 583\u001b[0m     \u001b[38;5;28;01mreturn\u001b[39;00m \u001b[38;5;28;43mself\u001b[39;49m\u001b[38;5;241;43m.\u001b[39;49m\u001b[43marray\u001b[49m\u001b[38;5;241;43m.\u001b[39;49m\u001b[43mget_duck_array\u001b[49m\u001b[43m(\u001b[49m\u001b[43m)\u001b[49m\n",
      "File \u001b[0;32m~/opt/miniconda3/envs/scenariomip/lib/python3.11/site-packages/xarray/core/indexing.py:794\u001b[0m, in \u001b[0;36mCopyOnWriteArray.get_duck_array\u001b[0;34m(self)\u001b[0m\n\u001b[1;32m    793\u001b[0m \u001b[38;5;28;01mdef\u001b[39;00m \u001b[38;5;21mget_duck_array\u001b[39m(\u001b[38;5;28mself\u001b[39m):\n\u001b[0;32m--> 794\u001b[0m     \u001b[38;5;28;01mreturn\u001b[39;00m \u001b[38;5;28;43mself\u001b[39;49m\u001b[38;5;241;43m.\u001b[39;49m\u001b[43marray\u001b[49m\u001b[38;5;241;43m.\u001b[39;49m\u001b[43mget_duck_array\u001b[49m\u001b[43m(\u001b[49m\u001b[43m)\u001b[49m\n",
      "File \u001b[0;32m~/opt/miniconda3/envs/scenariomip/lib/python3.11/site-packages/xarray/core/indexing.py:657\u001b[0m, in \u001b[0;36mLazilyIndexedArray.get_duck_array\u001b[0;34m(self)\u001b[0m\n\u001b[1;32m    653\u001b[0m     array \u001b[38;5;241m=\u001b[39m apply_indexer(\u001b[38;5;28mself\u001b[39m\u001b[38;5;241m.\u001b[39marray, \u001b[38;5;28mself\u001b[39m\u001b[38;5;241m.\u001b[39mkey)\n\u001b[1;32m    654\u001b[0m \u001b[38;5;28;01melse\u001b[39;00m:\n\u001b[1;32m    655\u001b[0m     \u001b[38;5;66;03m# If the array is not an ExplicitlyIndexedNDArrayMixin,\u001b[39;00m\n\u001b[1;32m    656\u001b[0m     \u001b[38;5;66;03m# it may wrap a BackendArray so use its __getitem__\u001b[39;00m\n\u001b[0;32m--> 657\u001b[0m     array \u001b[38;5;241m=\u001b[39m \u001b[38;5;28;43mself\u001b[39;49m\u001b[38;5;241;43m.\u001b[39;49m\u001b[43marray\u001b[49m\u001b[43m[\u001b[49m\u001b[38;5;28;43mself\u001b[39;49m\u001b[38;5;241;43m.\u001b[39;49m\u001b[43mkey\u001b[49m\u001b[43m]\u001b[49m\n\u001b[1;32m    659\u001b[0m \u001b[38;5;66;03m# self.array[self.key] is now a numpy array when\u001b[39;00m\n\u001b[1;32m    660\u001b[0m \u001b[38;5;66;03m# self.array is a BackendArray subclass\u001b[39;00m\n\u001b[1;32m    661\u001b[0m \u001b[38;5;66;03m# and self.key is BasicIndexer((slice(None, None, None),))\u001b[39;00m\n\u001b[1;32m    662\u001b[0m \u001b[38;5;66;03m# so we need the explicit check for ExplicitlyIndexed\u001b[39;00m\n\u001b[1;32m    663\u001b[0m \u001b[38;5;28;01mif\u001b[39;00m \u001b[38;5;28misinstance\u001b[39m(array, ExplicitlyIndexed):\n",
      "File \u001b[0;32m~/opt/miniconda3/envs/scenariomip/lib/python3.11/site-packages/xarray/backends/zarr.py:226\u001b[0m, in \u001b[0;36mZarrArrayWrapper.__getitem__\u001b[0;34m(self, key)\u001b[0m\n\u001b[1;32m    224\u001b[0m \u001b[38;5;28;01melif\u001b[39;00m \u001b[38;5;28misinstance\u001b[39m(key, indexing\u001b[38;5;241m.\u001b[39mOuterIndexer):\n\u001b[1;32m    225\u001b[0m     method \u001b[38;5;241m=\u001b[39m \u001b[38;5;28mself\u001b[39m\u001b[38;5;241m.\u001b[39m_oindex\n\u001b[0;32m--> 226\u001b[0m \u001b[38;5;28;01mreturn\u001b[39;00m \u001b[43mindexing\u001b[49m\u001b[38;5;241;43m.\u001b[39;49m\u001b[43mexplicit_indexing_adapter\u001b[49m\u001b[43m(\u001b[49m\n\u001b[1;32m    227\u001b[0m \u001b[43m    \u001b[49m\u001b[43mkey\u001b[49m\u001b[43m,\u001b[49m\u001b[43m \u001b[49m\u001b[43marray\u001b[49m\u001b[38;5;241;43m.\u001b[39;49m\u001b[43mshape\u001b[49m\u001b[43m,\u001b[49m\u001b[43m \u001b[49m\u001b[43mindexing\u001b[49m\u001b[38;5;241;43m.\u001b[39;49m\u001b[43mIndexingSupport\u001b[49m\u001b[38;5;241;43m.\u001b[39;49m\u001b[43mVECTORIZED\u001b[49m\u001b[43m,\u001b[49m\u001b[43m \u001b[49m\u001b[43mmethod\u001b[49m\n\u001b[1;32m    228\u001b[0m \u001b[43m\u001b[49m\u001b[43m)\u001b[49m\n",
      "File \u001b[0;32m~/opt/miniconda3/envs/scenariomip/lib/python3.11/site-packages/xarray/core/indexing.py:1018\u001b[0m, in \u001b[0;36mexplicit_indexing_adapter\u001b[0;34m(key, shape, indexing_support, raw_indexing_method)\u001b[0m\n\u001b[1;32m    996\u001b[0m \u001b[38;5;250m\u001b[39m\u001b[38;5;124;03m\"\"\"Support explicit indexing by delegating to a raw indexing method.\u001b[39;00m\n\u001b[1;32m    997\u001b[0m \n\u001b[1;32m    998\u001b[0m \u001b[38;5;124;03mOuter and/or vectorized indexers are supported by indexing a second time\u001b[39;00m\n\u001b[0;32m   (...)\u001b[0m\n\u001b[1;32m   1015\u001b[0m \u001b[38;5;124;03mIndexing result, in the form of a duck numpy-array.\u001b[39;00m\n\u001b[1;32m   1016\u001b[0m \u001b[38;5;124;03m\"\"\"\u001b[39;00m\n\u001b[1;32m   1017\u001b[0m raw_key, numpy_indices \u001b[38;5;241m=\u001b[39m decompose_indexer(key, shape, indexing_support)\n\u001b[0;32m-> 1018\u001b[0m result \u001b[38;5;241m=\u001b[39m \u001b[43mraw_indexing_method\u001b[49m\u001b[43m(\u001b[49m\u001b[43mraw_key\u001b[49m\u001b[38;5;241;43m.\u001b[39;49m\u001b[43mtuple\u001b[49m\u001b[43m)\u001b[49m\n\u001b[1;32m   1019\u001b[0m \u001b[38;5;28;01mif\u001b[39;00m numpy_indices\u001b[38;5;241m.\u001b[39mtuple:\n\u001b[1;32m   1020\u001b[0m     \u001b[38;5;66;03m# index the loaded np.ndarray\u001b[39;00m\n\u001b[1;32m   1021\u001b[0m     indexable \u001b[38;5;241m=\u001b[39m NumpyIndexingAdapter(result)\n",
      "File \u001b[0;32m~/opt/miniconda3/envs/scenariomip/lib/python3.11/site-packages/xarray/backends/zarr.py:216\u001b[0m, in \u001b[0;36mZarrArrayWrapper._getitem\u001b[0;34m(self, key)\u001b[0m\n\u001b[1;32m    215\u001b[0m \u001b[38;5;28;01mdef\u001b[39;00m \u001b[38;5;21m_getitem\u001b[39m(\u001b[38;5;28mself\u001b[39m, key):\n\u001b[0;32m--> 216\u001b[0m     \u001b[38;5;28;01mreturn\u001b[39;00m \u001b[38;5;28;43mself\u001b[39;49m\u001b[38;5;241;43m.\u001b[39;49m\u001b[43m_array\u001b[49m\u001b[43m[\u001b[49m\u001b[43mkey\u001b[49m\u001b[43m]\u001b[49m\n",
      "File \u001b[0;32m~/opt/miniconda3/envs/scenariomip/lib/python3.11/site-packages/zarr/core/array.py:2372\u001b[0m, in \u001b[0;36mArray.__getitem__\u001b[0;34m(self, selection)\u001b[0m\n\u001b[1;32m   2370\u001b[0m     \u001b[38;5;28;01mreturn\u001b[39;00m \u001b[38;5;28mself\u001b[39m\u001b[38;5;241m.\u001b[39mvindex[cast(CoordinateSelection \u001b[38;5;241m|\u001b[39m MaskSelection, selection)]\n\u001b[1;32m   2371\u001b[0m \u001b[38;5;28;01melif\u001b[39;00m is_pure_orthogonal_indexing(pure_selection, \u001b[38;5;28mself\u001b[39m\u001b[38;5;241m.\u001b[39mndim):\n\u001b[0;32m-> 2372\u001b[0m     \u001b[38;5;28;01mreturn\u001b[39;00m \u001b[38;5;28;43mself\u001b[39;49m\u001b[38;5;241;43m.\u001b[39;49m\u001b[43mget_orthogonal_selection\u001b[49m\u001b[43m(\u001b[49m\u001b[43mpure_selection\u001b[49m\u001b[43m,\u001b[49m\u001b[43m \u001b[49m\u001b[43mfields\u001b[49m\u001b[38;5;241;43m=\u001b[39;49m\u001b[43mfields\u001b[49m\u001b[43m)\u001b[49m\n\u001b[1;32m   2373\u001b[0m \u001b[38;5;28;01melse\u001b[39;00m:\n\u001b[1;32m   2374\u001b[0m     \u001b[38;5;28;01mreturn\u001b[39;00m \u001b[38;5;28mself\u001b[39m\u001b[38;5;241m.\u001b[39mget_basic_selection(cast(BasicSelection, pure_selection), fields\u001b[38;5;241m=\u001b[39mfields)\n",
      "File \u001b[0;32m~/opt/miniconda3/envs/scenariomip/lib/python3.11/site-packages/zarr/_compat.py:43\u001b[0m, in \u001b[0;36m_deprecate_positional_args.<locals>._inner_deprecate_positional_args.<locals>.inner_f\u001b[0;34m(*args, **kwargs)\u001b[0m\n\u001b[1;32m     41\u001b[0m extra_args \u001b[38;5;241m=\u001b[39m \u001b[38;5;28mlen\u001b[39m(args) \u001b[38;5;241m-\u001b[39m \u001b[38;5;28mlen\u001b[39m(all_args)\n\u001b[1;32m     42\u001b[0m \u001b[38;5;28;01mif\u001b[39;00m extra_args \u001b[38;5;241m<\u001b[39m\u001b[38;5;241m=\u001b[39m \u001b[38;5;241m0\u001b[39m:\n\u001b[0;32m---> 43\u001b[0m     \u001b[38;5;28;01mreturn\u001b[39;00m \u001b[43mf\u001b[49m\u001b[43m(\u001b[49m\u001b[38;5;241;43m*\u001b[39;49m\u001b[43margs\u001b[49m\u001b[43m,\u001b[49m\u001b[43m \u001b[49m\u001b[38;5;241;43m*\u001b[39;49m\u001b[38;5;241;43m*\u001b[39;49m\u001b[43mkwargs\u001b[49m\u001b[43m)\u001b[49m\n\u001b[1;32m     45\u001b[0m \u001b[38;5;66;03m# extra_args > 0\u001b[39;00m\n\u001b[1;32m     46\u001b[0m args_msg \u001b[38;5;241m=\u001b[39m [\n\u001b[1;32m     47\u001b[0m     \u001b[38;5;124mf\u001b[39m\u001b[38;5;124m\"\u001b[39m\u001b[38;5;132;01m{\u001b[39;00mname\u001b[38;5;132;01m}\u001b[39;00m\u001b[38;5;124m=\u001b[39m\u001b[38;5;132;01m{\u001b[39;00marg\u001b[38;5;132;01m}\u001b[39;00m\u001b[38;5;124m\"\u001b[39m\n\u001b[1;32m     48\u001b[0m     \u001b[38;5;28;01mfor\u001b[39;00m name, arg \u001b[38;5;129;01min\u001b[39;00m \u001b[38;5;28mzip\u001b[39m(kwonly_args[:extra_args], args[\u001b[38;5;241m-\u001b[39mextra_args:], strict\u001b[38;5;241m=\u001b[39m\u001b[38;5;28;01mFalse\u001b[39;00m)\n\u001b[1;32m     49\u001b[0m ]\n",
      "File \u001b[0;32m~/opt/miniconda3/envs/scenariomip/lib/python3.11/site-packages/zarr/core/array.py:2814\u001b[0m, in \u001b[0;36mArray.get_orthogonal_selection\u001b[0;34m(self, selection, out, fields, prototype)\u001b[0m\n\u001b[1;32m   2812\u001b[0m     prototype \u001b[38;5;241m=\u001b[39m default_buffer_prototype()\n\u001b[1;32m   2813\u001b[0m indexer \u001b[38;5;241m=\u001b[39m OrthogonalIndexer(selection, \u001b[38;5;28mself\u001b[39m\u001b[38;5;241m.\u001b[39mshape, \u001b[38;5;28mself\u001b[39m\u001b[38;5;241m.\u001b[39mmetadata\u001b[38;5;241m.\u001b[39mchunk_grid)\n\u001b[0;32m-> 2814\u001b[0m \u001b[38;5;28;01mreturn\u001b[39;00m \u001b[43msync\u001b[49m\u001b[43m(\u001b[49m\n\u001b[1;32m   2815\u001b[0m \u001b[43m    \u001b[49m\u001b[38;5;28;43mself\u001b[39;49m\u001b[38;5;241;43m.\u001b[39;49m\u001b[43m_async_array\u001b[49m\u001b[38;5;241;43m.\u001b[39;49m\u001b[43m_get_selection\u001b[49m\u001b[43m(\u001b[49m\n\u001b[1;32m   2816\u001b[0m \u001b[43m        \u001b[49m\u001b[43mindexer\u001b[49m\u001b[38;5;241;43m=\u001b[39;49m\u001b[43mindexer\u001b[49m\u001b[43m,\u001b[49m\u001b[43m \u001b[49m\u001b[43mout\u001b[49m\u001b[38;5;241;43m=\u001b[39;49m\u001b[43mout\u001b[49m\u001b[43m,\u001b[49m\u001b[43m \u001b[49m\u001b[43mfields\u001b[49m\u001b[38;5;241;43m=\u001b[39;49m\u001b[43mfields\u001b[49m\u001b[43m,\u001b[49m\u001b[43m \u001b[49m\u001b[43mprototype\u001b[49m\u001b[38;5;241;43m=\u001b[39;49m\u001b[43mprototype\u001b[49m\n\u001b[1;32m   2817\u001b[0m \u001b[43m    \u001b[49m\u001b[43m)\u001b[49m\n\u001b[1;32m   2818\u001b[0m \u001b[43m\u001b[49m\u001b[43m)\u001b[49m\n",
      "File \u001b[0;32m~/opt/miniconda3/envs/scenariomip/lib/python3.11/site-packages/zarr/core/sync.py:142\u001b[0m, in \u001b[0;36msync\u001b[0;34m(coro, loop, timeout)\u001b[0m\n\u001b[1;32m    139\u001b[0m return_result \u001b[38;5;241m=\u001b[39m \u001b[38;5;28mnext\u001b[39m(\u001b[38;5;28miter\u001b[39m(finished))\u001b[38;5;241m.\u001b[39mresult()\n\u001b[1;32m    141\u001b[0m \u001b[38;5;28;01mif\u001b[39;00m \u001b[38;5;28misinstance\u001b[39m(return_result, \u001b[38;5;167;01mBaseException\u001b[39;00m):\n\u001b[0;32m--> 142\u001b[0m     \u001b[38;5;28;01mraise\u001b[39;00m return_result\n\u001b[1;32m    143\u001b[0m \u001b[38;5;28;01melse\u001b[39;00m:\n\u001b[1;32m    144\u001b[0m     \u001b[38;5;28;01mreturn\u001b[39;00m return_result\n",
      "File \u001b[0;32m~/opt/miniconda3/envs/scenariomip/lib/python3.11/site-packages/zarr/core/sync.py:98\u001b[0m, in \u001b[0;36m_runner\u001b[0;34m(coro)\u001b[0m\n\u001b[1;32m     93\u001b[0m \u001b[38;5;250m\u001b[39m\u001b[38;5;124;03m\"\"\"\u001b[39;00m\n\u001b[1;32m     94\u001b[0m \u001b[38;5;124;03mAwait a coroutine and return the result of running it. If awaiting the coroutine raises an\u001b[39;00m\n\u001b[1;32m     95\u001b[0m \u001b[38;5;124;03mexception, the exception will be returned.\u001b[39;00m\n\u001b[1;32m     96\u001b[0m \u001b[38;5;124;03m\"\"\"\u001b[39;00m\n\u001b[1;32m     97\u001b[0m \u001b[38;5;28;01mtry\u001b[39;00m:\n\u001b[0;32m---> 98\u001b[0m     \u001b[38;5;28;01mreturn\u001b[39;00m \u001b[38;5;28;01mawait\u001b[39;00m coro\n\u001b[1;32m     99\u001b[0m \u001b[38;5;28;01mexcept\u001b[39;00m \u001b[38;5;167;01mException\u001b[39;00m \u001b[38;5;28;01mas\u001b[39;00m ex:\n\u001b[1;32m    100\u001b[0m     \u001b[38;5;28;01mreturn\u001b[39;00m ex\n",
      "File \u001b[0;32m~/opt/miniconda3/envs/scenariomip/lib/python3.11/site-packages/zarr/core/array.py:1234\u001b[0m, in \u001b[0;36mAsyncArray._get_selection\u001b[0;34m(self, indexer, prototype, out, fields)\u001b[0m\n\u001b[1;32m   1231\u001b[0m         _config \u001b[38;5;241m=\u001b[39m replace(_config, order\u001b[38;5;241m=\u001b[39m\u001b[38;5;28mself\u001b[39m\u001b[38;5;241m.\u001b[39mmetadata\u001b[38;5;241m.\u001b[39morder)\n\u001b[1;32m   1233\u001b[0m     \u001b[38;5;66;03m# reading chunks and decoding them\u001b[39;00m\n\u001b[0;32m-> 1234\u001b[0m     \u001b[38;5;28;01mawait\u001b[39;00m \u001b[38;5;28mself\u001b[39m\u001b[38;5;241m.\u001b[39mcodec_pipeline\u001b[38;5;241m.\u001b[39mread(\n\u001b[1;32m   1235\u001b[0m         [\n\u001b[1;32m   1236\u001b[0m             (\n\u001b[1;32m   1237\u001b[0m                 \u001b[38;5;28mself\u001b[39m\u001b[38;5;241m.\u001b[39mstore_path \u001b[38;5;241m/\u001b[39m \u001b[38;5;28mself\u001b[39m\u001b[38;5;241m.\u001b[39mmetadata\u001b[38;5;241m.\u001b[39mencode_chunk_key(chunk_coords),\n\u001b[1;32m   1238\u001b[0m                 \u001b[38;5;28mself\u001b[39m\u001b[38;5;241m.\u001b[39mmetadata\u001b[38;5;241m.\u001b[39mget_chunk_spec(chunk_coords, _config, prototype\u001b[38;5;241m=\u001b[39mprototype),\n\u001b[1;32m   1239\u001b[0m                 chunk_selection,\n\u001b[1;32m   1240\u001b[0m                 out_selection,\n\u001b[1;32m   1241\u001b[0m             )\n\u001b[1;32m   1242\u001b[0m             \u001b[38;5;28;01mfor\u001b[39;00m chunk_coords, chunk_selection, out_selection \u001b[38;5;129;01min\u001b[39;00m indexer\n\u001b[1;32m   1243\u001b[0m         ],\n\u001b[1;32m   1244\u001b[0m         out_buffer,\n\u001b[1;32m   1245\u001b[0m         drop_axes\u001b[38;5;241m=\u001b[39mindexer\u001b[38;5;241m.\u001b[39mdrop_axes,\n\u001b[1;32m   1246\u001b[0m     )\n\u001b[1;32m   1247\u001b[0m \u001b[38;5;28;01mreturn\u001b[39;00m out_buffer\u001b[38;5;241m.\u001b[39mas_ndarray_like()\n",
      "File \u001b[0;32m~/opt/miniconda3/envs/scenariomip/lib/python3.11/site-packages/zarr/core/codec_pipeline.py:453\u001b[0m, in \u001b[0;36mBatchedCodecPipeline.read\u001b[0;34m(self, batch_info, out, drop_axes)\u001b[0m\n\u001b[1;32m    447\u001b[0m \u001b[38;5;28;01masync\u001b[39;00m \u001b[38;5;28;01mdef\u001b[39;00m \u001b[38;5;21mread\u001b[39m(\n\u001b[1;32m    448\u001b[0m     \u001b[38;5;28mself\u001b[39m,\n\u001b[1;32m    449\u001b[0m     batch_info: Iterable[\u001b[38;5;28mtuple\u001b[39m[ByteGetter, ArraySpec, SelectorTuple, SelectorTuple]],\n\u001b[1;32m    450\u001b[0m     out: NDBuffer,\n\u001b[1;32m    451\u001b[0m     drop_axes: \u001b[38;5;28mtuple\u001b[39m[\u001b[38;5;28mint\u001b[39m, \u001b[38;5;241m.\u001b[39m\u001b[38;5;241m.\u001b[39m\u001b[38;5;241m.\u001b[39m] \u001b[38;5;241m=\u001b[39m (),\n\u001b[1;32m    452\u001b[0m ) \u001b[38;5;241m-\u001b[39m\u001b[38;5;241m>\u001b[39m \u001b[38;5;28;01mNone\u001b[39;00m:\n\u001b[0;32m--> 453\u001b[0m     \u001b[38;5;28;01mawait\u001b[39;00m concurrent_map(\n\u001b[1;32m    454\u001b[0m         [\n\u001b[1;32m    455\u001b[0m             (single_batch_info, out, drop_axes)\n\u001b[1;32m    456\u001b[0m             \u001b[38;5;28;01mfor\u001b[39;00m single_batch_info \u001b[38;5;129;01min\u001b[39;00m batched(batch_info, \u001b[38;5;28mself\u001b[39m\u001b[38;5;241m.\u001b[39mbatch_size)\n\u001b[1;32m    457\u001b[0m         ],\n\u001b[1;32m    458\u001b[0m         \u001b[38;5;28mself\u001b[39m\u001b[38;5;241m.\u001b[39mread_batch,\n\u001b[1;32m    459\u001b[0m         config\u001b[38;5;241m.\u001b[39mget(\u001b[38;5;124m\"\u001b[39m\u001b[38;5;124masync.concurrency\u001b[39m\u001b[38;5;124m\"\u001b[39m),\n\u001b[1;32m    460\u001b[0m     )\n",
      "File \u001b[0;32m~/opt/miniconda3/envs/scenariomip/lib/python3.11/site-packages/zarr/core/common.py:68\u001b[0m, in \u001b[0;36mconcurrent_map\u001b[0;34m(items, func, limit)\u001b[0m\n\u001b[1;32m     65\u001b[0m     \u001b[38;5;28;01masync\u001b[39;00m \u001b[38;5;28;01mwith\u001b[39;00m sem:\n\u001b[1;32m     66\u001b[0m         \u001b[38;5;28;01mreturn\u001b[39;00m \u001b[38;5;28;01mawait\u001b[39;00m func(\u001b[38;5;241m*\u001b[39mitem)\n\u001b[0;32m---> 68\u001b[0m \u001b[38;5;28;01mreturn\u001b[39;00m \u001b[38;5;28;01mawait\u001b[39;00m asyncio\u001b[38;5;241m.\u001b[39mgather(\u001b[38;5;241m*\u001b[39m[asyncio\u001b[38;5;241m.\u001b[39mensure_future(run(item)) \u001b[38;5;28;01mfor\u001b[39;00m item \u001b[38;5;129;01min\u001b[39;00m items])\n",
      "File \u001b[0;32m~/opt/miniconda3/envs/scenariomip/lib/python3.11/site-packages/zarr/core/common.py:66\u001b[0m, in \u001b[0;36mconcurrent_map.<locals>.run\u001b[0;34m(item)\u001b[0m\n\u001b[1;32m     64\u001b[0m \u001b[38;5;28;01masync\u001b[39;00m \u001b[38;5;28;01mdef\u001b[39;00m \u001b[38;5;21mrun\u001b[39m(item: \u001b[38;5;28mtuple\u001b[39m[Any]) \u001b[38;5;241m-\u001b[39m\u001b[38;5;241m>\u001b[39m V:\n\u001b[1;32m     65\u001b[0m     \u001b[38;5;28;01masync\u001b[39;00m \u001b[38;5;28;01mwith\u001b[39;00m sem:\n\u001b[0;32m---> 66\u001b[0m         \u001b[38;5;28;01mreturn\u001b[39;00m \u001b[38;5;28;01mawait\u001b[39;00m func(\u001b[38;5;241m*\u001b[39mitem)\n",
      "File \u001b[0;32m~/opt/miniconda3/envs/scenariomip/lib/python3.11/site-packages/zarr/core/codec_pipeline.py:262\u001b[0m, in \u001b[0;36mBatchedCodecPipeline.read_batch\u001b[0;34m(self, batch_info, out, drop_axes)\u001b[0m\n\u001b[1;32m    260\u001b[0m             out[out_selection] \u001b[38;5;241m=\u001b[39m fill_value\n\u001b[1;32m    261\u001b[0m \u001b[38;5;28;01melse\u001b[39;00m:\n\u001b[0;32m--> 262\u001b[0m     chunk_bytes_batch \u001b[38;5;241m=\u001b[39m \u001b[38;5;28;01mawait\u001b[39;00m concurrent_map(\n\u001b[1;32m    263\u001b[0m         [\n\u001b[1;32m    264\u001b[0m             (byte_getter, array_spec\u001b[38;5;241m.\u001b[39mprototype)\n\u001b[1;32m    265\u001b[0m             \u001b[38;5;28;01mfor\u001b[39;00m byte_getter, array_spec, _, _ \u001b[38;5;129;01min\u001b[39;00m batch_info\n\u001b[1;32m    266\u001b[0m         ],\n\u001b[1;32m    267\u001b[0m         \u001b[38;5;28;01mlambda\u001b[39;00m byte_getter, prototype: byte_getter\u001b[38;5;241m.\u001b[39mget(prototype),\n\u001b[1;32m    268\u001b[0m         config\u001b[38;5;241m.\u001b[39mget(\u001b[38;5;124m\"\u001b[39m\u001b[38;5;124masync.concurrency\u001b[39m\u001b[38;5;124m\"\u001b[39m),\n\u001b[1;32m    269\u001b[0m     )\n\u001b[1;32m    270\u001b[0m     chunk_array_batch \u001b[38;5;241m=\u001b[39m \u001b[38;5;28;01mawait\u001b[39;00m \u001b[38;5;28mself\u001b[39m\u001b[38;5;241m.\u001b[39mdecode_batch(\n\u001b[1;32m    271\u001b[0m         [\n\u001b[1;32m    272\u001b[0m             (chunk_bytes, chunk_spec)\n\u001b[0;32m   (...)\u001b[0m\n\u001b[1;32m    276\u001b[0m         ],\n\u001b[1;32m    277\u001b[0m     )\n\u001b[1;32m    278\u001b[0m     \u001b[38;5;28;01mfor\u001b[39;00m chunk_array, (_, chunk_spec, chunk_selection, out_selection) \u001b[38;5;129;01min\u001b[39;00m \u001b[38;5;28mzip\u001b[39m(\n\u001b[1;32m    279\u001b[0m         chunk_array_batch, batch_info, strict\u001b[38;5;241m=\u001b[39m\u001b[38;5;28;01mFalse\u001b[39;00m\n\u001b[1;32m    280\u001b[0m     ):\n",
      "File \u001b[0;32m~/opt/miniconda3/envs/scenariomip/lib/python3.11/site-packages/zarr/core/common.py:68\u001b[0m, in \u001b[0;36mconcurrent_map\u001b[0;34m(items, func, limit)\u001b[0m\n\u001b[1;32m     65\u001b[0m     \u001b[38;5;28;01masync\u001b[39;00m \u001b[38;5;28;01mwith\u001b[39;00m sem:\n\u001b[1;32m     66\u001b[0m         \u001b[38;5;28;01mreturn\u001b[39;00m \u001b[38;5;28;01mawait\u001b[39;00m func(\u001b[38;5;241m*\u001b[39mitem)\n\u001b[0;32m---> 68\u001b[0m \u001b[38;5;28;01mreturn\u001b[39;00m \u001b[38;5;28;01mawait\u001b[39;00m asyncio\u001b[38;5;241m.\u001b[39mgather(\u001b[38;5;241m*\u001b[39m[asyncio\u001b[38;5;241m.\u001b[39mensure_future(run(item)) \u001b[38;5;28;01mfor\u001b[39;00m item \u001b[38;5;129;01min\u001b[39;00m items])\n",
      "File \u001b[0;32m~/opt/miniconda3/envs/scenariomip/lib/python3.11/site-packages/zarr/core/common.py:66\u001b[0m, in \u001b[0;36mconcurrent_map.<locals>.run\u001b[0;34m(item)\u001b[0m\n\u001b[1;32m     64\u001b[0m \u001b[38;5;28;01masync\u001b[39;00m \u001b[38;5;28;01mdef\u001b[39;00m \u001b[38;5;21mrun\u001b[39m(item: \u001b[38;5;28mtuple\u001b[39m[Any]) \u001b[38;5;241m-\u001b[39m\u001b[38;5;241m>\u001b[39m V:\n\u001b[1;32m     65\u001b[0m     \u001b[38;5;28;01masync\u001b[39;00m \u001b[38;5;28;01mwith\u001b[39;00m sem:\n\u001b[0;32m---> 66\u001b[0m         \u001b[38;5;28;01mreturn\u001b[39;00m \u001b[38;5;28;01mawait\u001b[39;00m func(\u001b[38;5;241m*\u001b[39mitem)\n",
      "File \u001b[0;32m~/opt/miniconda3/envs/scenariomip/lib/python3.11/site-packages/zarr/storage/_common.py:124\u001b[0m, in \u001b[0;36mStorePath.get\u001b[0;34m(self, prototype, byte_range)\u001b[0m\n\u001b[1;32m    122\u001b[0m \u001b[38;5;28;01mif\u001b[39;00m prototype \u001b[38;5;129;01mis\u001b[39;00m \u001b[38;5;28;01mNone\u001b[39;00m:\n\u001b[1;32m    123\u001b[0m     prototype \u001b[38;5;241m=\u001b[39m default_buffer_prototype()\n\u001b[0;32m--> 124\u001b[0m \u001b[38;5;28;01mreturn\u001b[39;00m \u001b[38;5;28;01mawait\u001b[39;00m \u001b[38;5;28mself\u001b[39m\u001b[38;5;241m.\u001b[39mstore\u001b[38;5;241m.\u001b[39mget(\u001b[38;5;28mself\u001b[39m\u001b[38;5;241m.\u001b[39mpath, prototype\u001b[38;5;241m=\u001b[39mprototype, byte_range\u001b[38;5;241m=\u001b[39mbyte_range)\n",
      "File \u001b[0;32m~/opt/miniconda3/envs/scenariomip/lib/python3.11/site-packages/zarr/storage/_fsspec.py:217\u001b[0m, in \u001b[0;36mFsspecStore.get\u001b[0;34m(self, key, prototype, byte_range)\u001b[0m\n\u001b[1;32m    215\u001b[0m \u001b[38;5;28;01mtry\u001b[39;00m:\n\u001b[1;32m    216\u001b[0m     \u001b[38;5;28;01mif\u001b[39;00m byte_range \u001b[38;5;129;01mis\u001b[39;00m \u001b[38;5;28;01mNone\u001b[39;00m:\n\u001b[0;32m--> 217\u001b[0m         value \u001b[38;5;241m=\u001b[39m prototype\u001b[38;5;241m.\u001b[39mbuffer\u001b[38;5;241m.\u001b[39mfrom_bytes(\u001b[38;5;28;01mawait\u001b[39;00m \u001b[38;5;28mself\u001b[39m\u001b[38;5;241m.\u001b[39mfs\u001b[38;5;241m.\u001b[39m_cat_file(path))\n\u001b[1;32m    218\u001b[0m     \u001b[38;5;28;01melif\u001b[39;00m \u001b[38;5;28misinstance\u001b[39m(byte_range, RangeByteRequest):\n\u001b[1;32m    219\u001b[0m         value \u001b[38;5;241m=\u001b[39m prototype\u001b[38;5;241m.\u001b[39mbuffer\u001b[38;5;241m.\u001b[39mfrom_bytes(\n\u001b[1;32m    220\u001b[0m             \u001b[38;5;28;01mawait\u001b[39;00m \u001b[38;5;28mself\u001b[39m\u001b[38;5;241m.\u001b[39mfs\u001b[38;5;241m.\u001b[39m_cat_file(\n\u001b[1;32m    221\u001b[0m                 path,\n\u001b[0;32m   (...)\u001b[0m\n\u001b[1;32m    224\u001b[0m             )\n\u001b[1;32m    225\u001b[0m         )\n",
      "File \u001b[0;32m~/opt/miniconda3/envs/scenariomip/lib/python3.11/site-packages/fsspec/implementations/http.py:236\u001b[0m, in \u001b[0;36mHTTPFileSystem._cat_file\u001b[0;34m(self, url, start, end, **kwargs)\u001b[0m\n\u001b[1;32m    234\u001b[0m \u001b[38;5;28;01masync\u001b[39;00m \u001b[38;5;28;01mwith\u001b[39;00m session\u001b[38;5;241m.\u001b[39mget(\u001b[38;5;28mself\u001b[39m\u001b[38;5;241m.\u001b[39mencode_url(url), \u001b[38;5;241m*\u001b[39m\u001b[38;5;241m*\u001b[39mkw) \u001b[38;5;28;01mas\u001b[39;00m r:\n\u001b[1;32m    235\u001b[0m     out \u001b[38;5;241m=\u001b[39m \u001b[38;5;28;01mawait\u001b[39;00m r\u001b[38;5;241m.\u001b[39mread()\n\u001b[0;32m--> 236\u001b[0m     \u001b[38;5;28;43mself\u001b[39;49m\u001b[38;5;241;43m.\u001b[39;49m\u001b[43m_raise_not_found_for_status\u001b[49m\u001b[43m(\u001b[49m\u001b[43mr\u001b[49m\u001b[43m,\u001b[49m\u001b[43m \u001b[49m\u001b[43murl\u001b[49m\u001b[43m)\u001b[49m\n\u001b[1;32m    237\u001b[0m \u001b[38;5;28;01mreturn\u001b[39;00m out\n",
      "File \u001b[0;32m~/opt/miniconda3/envs/scenariomip/lib/python3.11/site-packages/fsspec/implementations/http.py:219\u001b[0m, in \u001b[0;36mHTTPFileSystem._raise_not_found_for_status\u001b[0;34m(self, response, url)\u001b[0m\n\u001b[1;32m    217\u001b[0m \u001b[38;5;28;01mif\u001b[39;00m response\u001b[38;5;241m.\u001b[39mstatus \u001b[38;5;241m==\u001b[39m \u001b[38;5;241m404\u001b[39m:\n\u001b[1;32m    218\u001b[0m     \u001b[38;5;28;01mraise\u001b[39;00m \u001b[38;5;167;01mFileNotFoundError\u001b[39;00m(url)\n\u001b[0;32m--> 219\u001b[0m \u001b[43mresponse\u001b[49m\u001b[38;5;241;43m.\u001b[39;49m\u001b[43mraise_for_status\u001b[49m\u001b[43m(\u001b[49m\u001b[43m)\u001b[49m\n",
      "File \u001b[0;32m~/opt/miniconda3/envs/scenariomip/lib/python3.11/site-packages/aiohttp/client_reqrep.py:1161\u001b[0m, in \u001b[0;36mClientResponse.raise_for_status\u001b[0;34m(self)\u001b[0m\n\u001b[1;32m   1158\u001b[0m \u001b[38;5;28;01mif\u001b[39;00m \u001b[38;5;129;01mnot\u001b[39;00m \u001b[38;5;28mself\u001b[39m\u001b[38;5;241m.\u001b[39m_in_context:\n\u001b[1;32m   1159\u001b[0m     \u001b[38;5;28mself\u001b[39m\u001b[38;5;241m.\u001b[39mrelease()\n\u001b[0;32m-> 1161\u001b[0m \u001b[38;5;28;01mraise\u001b[39;00m ClientResponseError(\n\u001b[1;32m   1162\u001b[0m     \u001b[38;5;28mself\u001b[39m\u001b[38;5;241m.\u001b[39mrequest_info,\n\u001b[1;32m   1163\u001b[0m     \u001b[38;5;28mself\u001b[39m\u001b[38;5;241m.\u001b[39mhistory,\n\u001b[1;32m   1164\u001b[0m     status\u001b[38;5;241m=\u001b[39m\u001b[38;5;28mself\u001b[39m\u001b[38;5;241m.\u001b[39mstatus,\n\u001b[1;32m   1165\u001b[0m     message\u001b[38;5;241m=\u001b[39m\u001b[38;5;28mself\u001b[39m\u001b[38;5;241m.\u001b[39mreason,\n\u001b[1;32m   1166\u001b[0m     headers\u001b[38;5;241m=\u001b[39m\u001b[38;5;28mself\u001b[39m\u001b[38;5;241m.\u001b[39mheaders,\n\u001b[1;32m   1167\u001b[0m )\n",
      "\u001b[0;31mClientResponseError\u001b[0m: 503, message='Service Unavailable', url='https://portal.nccs.nasa.gov/datashare/GlobalFWI/v2.0/fwiCalcs.GEOS-5/Default/GPM.LATE.v5/zarr/GPM.LATE.v5_BUI/7.12.19'"
     ]
    }
   ],
   "source": [
    "mtbs_raster_files = os.listdir(mtbs_raster_data_dir)\n",
    "\n",
    "mtbs_data = []\n",
    "\n",
    "mtbs_gdf = gpd.read_file(mtbs_perimeter_data_path)\n",
    "\n",
    "ds_fwi = xr.open_zarr(fwi_zarr_path)\n",
    "ds_fwi = ds_fwi.rio.write_crs(\"EPSG:4326\")\n",
    "\n",
    "ds_fwi = ds_fwi.rename({\"lon\": \"x\", \"lat\": \"y\"})\n",
    "\n",
    "for file in mtbs_raster_files:\n",
    "    data_struct = {}\n",
    "\n",
    "    file_info = file[:-4].split(\"_\")\n",
    "    state = file_info[1]\n",
    "    year = int(file_info[2])\n",
    "\n",
    "    data_struct[\"state\"] = state\n",
    "    data_struct[\"year\"] = year\n",
    "\n",
    "    da_mtsb_raster = rioxarray.open_rasterio(f\"{mtbs_raster_data_dir}/{file}\")\n",
    "    da_mtsb_raster = da_mtsb_raster.rio.reproject(CRS)\n",
    "    # We filter here to include only values of meaningful fire severity\n",
    "    da_mtsb_raster = da_mtsb_raster.where((da_mtsb_raster >= 2) & (da_mtsb_raster < 5))\n",
    "    data_struct[\"da_fire_severity\"] = da_mtsb_raster.copy()\n",
    "\n",
    "    gdf_filtered = (mtbs_gdf.loc[(mtbs_gdf[\"Incid_Type\"]==\"Wildfire\") & (mtbs_gdf[\"Ig_Date\"].dt.year == data_struct[\"year\"]) & (mtbs_gdf[\"Event_ID\"].str.startswith(data_struct[\"state\"]))])\n",
    "    gdf_temp = gdf_filtered.set_index(\"Event_ID\")[[\"geometry\"]]\n",
    "    gdf_temp = gdf_temp.to_crs(da_mtsb_raster.spatial_ref.crs_wkt)\n",
    "    data_struct[\"gdf\"] = gdf_temp.copy()\n",
    "\n",
    "    ds_fwi_state = ds_fwi[fwi_zarr_variable].sel(time=ds_fwi.time.isin(gdf_filtered[\"Ig_Date\"])).compute()\n",
    "    ds_fwi_reproj = ds_fwi.rio.reproject_match(da_mtsb_raster)\n",
    "    bounds = da_mtsb_raster.rio.bounds()\n",
    "    ds_fwi_reproj_clipped = ds_fwi_reproj.rio.clip_box(*bounds)\n",
    "    data_struct[\"da_fwi\"] = ds_fwi_reproj_clipped.copy()\n",
    "\n",
    "    print(f\"{state} {year} processed!\")\n",
    "    mtbs_data.append(data_struct)\n"
   ]
  },
  {
   "cell_type": "code",
   "execution_count": null,
   "id": "b3cafff2",
   "metadata": {},
   "outputs": [],
   "source": [
    "import geopandas as gpd\n",
    "import xarray as xr\n",
    "import rioxarray\n",
    "import xvec"
   ]
  },
  {
   "cell_type": "code",
   "execution_count": null,
   "id": "7301dd5c",
   "metadata": {},
   "outputs": [],
   "source": [
    "calcd_dfs = []\n",
    "da_name = \"fire_severity\"\n",
    "\n",
    "for data in mtbs_data:\n",
    "\n",
    "    da_temp = data[\"da\"].xvec.zonal_stats(\n",
    "        data[\"gdf\"].geometry,\n",
    "        x_coords=\"x\",\n",
    "        y_coords=\"y\",\n",
    "        stats=[\"mean\", \"max\"],\n",
    "        method=\"exactextract\",\n",
    "        index=True,\n",
    "    )\n",
    "    da_temp.name = da_name\n",
    "    df_temp = da_temp.to_dataframe().reset_index()\n",
    "\n",
    "    df_mean = df_temp.loc[df_temp[\"zonal_statistics\"]==\"mean\"]\n",
    "    df_mean = df_mean.rename(columns={da_name: da_name+\"_mean\"})\n",
    "\n",
    "    df_max = df_temp.loc[df_temp[\"zonal_statistics\"]==\"max\"]\n",
    "    df_max = df_max.rename(columns={da_name: da_name+\"_max\"})\n",
    "\n",
    "\n",
    "    df_temp =df_mean.merge(df_max, how=\"inner\", on=\"Event_ID\")[[\"Event_ID\", da_name+\"_mean\", da_name+\"_max\"]]\n",
    "    calcd_dfs.append(df_temp.copy())\n",
    "\n",
    "    state = data[\"state\"]\n",
    "    year = data[\"year\"]\n",
    "    print(f\"{state} {year} processed!\")\n",
    "\n",
    "fire_severity_df = pd.concat(calcd_dfs)\n",
    "fire_severity_df = fire_severity_df.drop_duplicates(subset=[\"Event_ID\"])\n",
    "mtbs_gdf_merged = mtbs_gdf.merge(fire_severity_df, how='left', on=\"Event_ID\")\n"
   ]
  },
  {
   "cell_type": "code",
   "execution_count": null,
   "id": "ea53b596",
   "metadata": {},
   "outputs": [],
   "source": [
    "service_areas = gpd.read_file(eia_utility_service_areas_path)\n",
    "service_areas = service_areas.to_crs(CRS)\n",
    "\n",
    "service_areas = service_areas[[\"NAME\", \"geometry\"]]\n",
    "mtbs_gdf_final = mtbs_gdf_merged[[\"Event_ID\", \"Ig_Date\", \"BurnBndAc\", \"fire_severity_mean\", \"fire_severity_max\", \"geometry\"]]\n",
    "\n",
    "df_final = service_areas.sjoin(mtbs_gdf_final)\n",
    "df_final = df_final.drop(columns=[\"geometry\", \"index_right\"])\n",
    "df_final = df_final.dropna(subset=\"fire_severity_mean\")"
   ]
  },
  {
   "cell_type": "code",
   "execution_count": null,
   "id": "63228bef",
   "metadata": {},
   "outputs": [],
   "source": []
  },
  {
   "cell_type": "code",
   "execution_count": null,
   "id": "abe9bf0c",
   "metadata": {},
   "outputs": [],
   "source": [
    "df_final[\"Ig_Date\"]"
   ]
  },
  {
   "cell_type": "code",
   "execution_count": null,
   "id": "6ae913cf",
   "metadata": {},
   "outputs": [],
   "source": []
  },
  {
   "cell_type": "code",
   "execution_count": null,
   "id": "c2ddcd5f",
   "metadata": {},
   "outputs": [],
   "source": []
  },
  {
   "cell_type": "code",
   "execution_count": null,
   "id": "c4d75685",
   "metadata": {},
   "outputs": [],
   "source": [
    "service_areas[[\"NAME\"]].to_csv(\"service_area_names.csv\", index=False)"
   ]
  },
  {
   "cell_type": "code",
   "execution_count": null,
   "id": "1a9eea69",
   "metadata": {},
   "outputs": [],
   "source": [
    "fire_severity_df"
   ]
  },
  {
   "cell_type": "code",
   "execution_count": null,
   "id": "0d8e54bb",
   "metadata": {},
   "outputs": [],
   "source": [
    "ds_test.rio.write_crs(\"EPSG:4326\", inplace=True)\n",
    "ds_test.rio.set_spatial_dims(x_dim=\"lon\", y_dim=\"lat\")\n",
    "ds_test.rio.reproject(CRS)"
   ]
  },
  {
   "cell_type": "code",
   "execution_count": null,
   "id": "dab0403d",
   "metadata": {},
   "outputs": [],
   "source": [
    "data[\"da\"]"
   ]
  },
  {
   "cell_type": "code",
   "execution_count": null,
   "id": "d13a598d",
   "metadata": {},
   "outputs": [],
   "source": []
  }
 ],
 "metadata": {
  "kernelspec": {
   "display_name": "scenariomip",
   "language": "python",
   "name": "python3"
  },
  "language_info": {
   "codemirror_mode": {
    "name": "ipython",
    "version": 3
   },
   "file_extension": ".py",
   "mimetype": "text/x-python",
   "name": "python",
   "nbconvert_exporter": "python",
   "pygments_lexer": "ipython3",
   "version": "3.11.2"
  }
 },
 "nbformat": 4,
 "nbformat_minor": 5
}
