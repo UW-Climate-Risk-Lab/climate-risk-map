{
 "cells": [
  {
   "cell_type": "code",
   "execution_count": 1,
   "id": "369a9614",
   "metadata": {},
   "outputs": [],
   "source": [
    "import geopandas as gpd\n",
    "import pandas as pd\n",
    "import xarray as xr\n",
    "import rioxarray\n",
    "import xvec\n",
    "import os"
   ]
  },
  {
   "cell_type": "markdown",
   "id": "554860a2",
   "metadata": {},
   "source": [
    "## Step 1)\n",
    "\n",
    "First, we read in the MTBS Wildfire data files and package them in a list of dictionaries\n",
    "\n"
   ]
  },
  {
   "cell_type": "code",
   "execution_count": 9,
   "id": "42e86ab3",
   "metadata": {},
   "outputs": [],
   "source": [
    "mtbs_raster_data_dir = \"./data/mtbs_rasters\"\n",
    "mtbs_perimeter_data_path = \"./data/mtbs_perimeters/mtbs_perims_DD.shp\"\n",
    "mtbs_raster_files = os.listdir(mtbs_raster_data_dir)\n",
    "\n",
    "mtbs_data = []\n",
    "\n",
    "mtbs_gdf = gpd.read_file(mtbs_perimeter_data_path)\n",
    "\n",
    "for file in mtbs_raster_files:\n",
    "    data_struct = {}\n",
    "\n",
    "    file_info = file[:-4].split(\"_\")\n",
    "\n",
    "    data_struct[\"state\"] = file_info[1]\n",
    "    data_struct[\"year\"] = int(file_info[2])\n",
    "\n",
    "    da_temp = rioxarray.open_rasterio(f\"{mtbs_raster_data_dir}/{file}\")\n",
    "    da_temp = da_temp.rio.reproject(\"EPSG:4269\")\n",
    "    # We filter here to include only values of meaningful fire severity\n",
    "    da_temp = da_temp.where((da_temp >= 2) & (da_temp < 5))\n",
    "    data_struct[\"da\"] = da_temp.copy()\n",
    "\n",
    "    gdf_temp = (mtbs_gdf.loc[(mtbs_gdf[\"Incid_Type\"]==\"Wildfire\") & (mtbs_gdf[\"Ig_Date\"].dt.year == data_struct[\"year\"]) & (mtbs_gdf[\"Event_ID\"].str.startswith(data_struct[\"state\"]))])\n",
    "    gdf_temp = gdf_temp.set_index(\"Event_ID\")[[\"geometry\"]]\n",
    "    gdf_temp = gdf_temp.to_crs(da_temp.spatial_ref.crs_wkt)\n",
    "    data_struct[\"gdf\"] = gdf_temp.copy()\n",
    "    mtbs_data.append(data_struct)\n"
   ]
  },
  {
   "cell_type": "code",
   "execution_count": 21,
   "id": "7301dd5c",
   "metadata": {},
   "outputs": [
    {
     "name": "stderr",
     "output_type": "stream",
     "text": [
      "/Users/ericcollins/opt/miniconda3/envs/scenariomip/lib/python3.11/site-packages/exactextract/exact_extract.py:330: RuntimeWarning: Spatial reference system of input features does not exactly match raster.\n",
      "  warnings.warn(\n"
     ]
    }
   ],
   "source": [
    "calcd_dfs = []\n",
    "da_name = \"fire_severity\"\n",
    "\n",
    "for data in mtbs_data:\n",
    "\n",
    "    da_temp = data[\"da\"].xvec.zonal_stats(\n",
    "        data[\"gdf\"].geometry,\n",
    "        x_coords=\"x\",\n",
    "        y_coords=\"y\",\n",
    "        stats=[\"mean\", \"max\"],\n",
    "        method=\"exactextract\",\n",
    "        index=True,\n",
    "    )\n",
    "    da_temp.name = da_name\n",
    "    df_temp = da_temp.to_dataframe().reset_index()\n",
    "\n",
    "    df_mean = df_temp.loc[df_temp[\"zonal_statistics\"]==\"mean\"]\n",
    "    df_mean = df_mean.rename(columns={da_name: da_name+\"_mean\"})\n",
    "\n",
    "    df_max = df_temp.loc[df_temp[\"zonal_statistics\"]==\"max\"]\n",
    "    df_max = df_max.rename(columns={da_name: da_name+\"_max\"})\n",
    "\n",
    "\n",
    "    df_temp =df_mean.merge(df_max, how=\"inner\", on=\"Event_ID\")[[\"Event_ID\", da_name+\"_mean\", da_name+\"_max\"]]\n",
    "    calcd_dfs.append(df_temp.copy())\n",
    "\n",
    "fire_severity_df = pd.concat(calcd_dfs)\n",
    "fire_severity_df = fire_severity_df.drop_duplicates(subset=[\"Event_ID\"])\n",
    "mtbs_gdf_final = mtbs_gdf.merge(fire_severity_df, how='left', on=\"Event_ID\")"
   ]
  }
 ],
 "metadata": {
  "kernelspec": {
   "display_name": "scenariomip",
   "language": "python",
   "name": "python3"
  },
  "language_info": {
   "codemirror_mode": {
    "name": "ipython",
    "version": 3
   },
   "file_extension": ".py",
   "mimetype": "text/x-python",
   "name": "python",
   "nbconvert_exporter": "python",
   "pygments_lexer": "ipython3",
   "version": "3.11.2"
  }
 },
 "nbformat": 4,
 "nbformat_minor": 5
}
