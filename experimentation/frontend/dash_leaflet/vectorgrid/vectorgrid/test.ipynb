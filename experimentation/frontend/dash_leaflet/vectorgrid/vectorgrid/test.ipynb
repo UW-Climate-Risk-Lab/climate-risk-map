{
 "cells": [
  {
   "cell_type": "code",
   "execution_count": 1,
   "metadata": {},
   "outputs": [],
   "source": [
    "import geopandas"
   ]
  },
  {
   "cell_type": "code",
   "execution_count": 2,
   "metadata": {},
   "outputs": [],
   "source": [
    "gdf = geopandas.read_file(\"/Users/ericcollins/Downloads/GridCells2Shapefile/GridCells2.shp\")"
   ]
  },
  {
   "cell_type": "code",
   "execution_count": 6,
   "metadata": {},
   "outputs": [
    {
     "data": {
      "text/plain": [
       "Index(['OBJECTID', 'Crossmodel', 'wildfire_a', 'wildfire_1', 'wildfire_2',\n",
       "       'wildfire_3', 'wildfire_4', 'wildfire_5', 'wildfire_6', 'wildfire_s',\n",
       "       'wildfire_7', 'wildfire_8', 'wildfire_9', 'wildfir_10', 'wildfir_11',\n",
       "       'wildfir_12', 'wildfir_13', 'wildfir_14', 'wildfir_15', 'wildfir_16',\n",
       "       'wildfir_17', 'wildfir_18', 'wildfir_19', 'wildfire_w', 'wildfir_20',\n",
       "       'wildfir_21', 'wildfir_22', 'wildfir_23', 'wildfir_24', 'wildfir_25',\n",
       "       'Shape_STAr', 'Shape_STLe', 'geometry'],\n",
       "      dtype='object')"
      ]
     },
     "execution_count": 6,
     "metadata": {},
     "output_type": "execute_result"
    }
   ],
   "source": [
    "gdf.columns"
   ]
  },
  {
   "cell_type": "code",
   "execution_count": null,
   "metadata": {},
   "outputs": [],
   "source": []
  }
 ],
 "metadata": {
  "kernelspec": {
   "display_name": "scenariomip",
   "language": "python",
   "name": "python3"
  },
  "language_info": {
   "codemirror_mode": {
    "name": "ipython",
    "version": 3
   },
   "file_extension": ".py",
   "mimetype": "text/x-python",
   "name": "python",
   "nbconvert_exporter": "python",
   "pygments_lexer": "ipython3",
   "version": "3.11.2"
  }
 },
 "nbformat": 4,
 "nbformat_minor": 2
}
